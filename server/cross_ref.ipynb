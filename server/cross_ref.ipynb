{
 "cells": [
  {
   "cell_type": "code",
   "execution_count": 78,
   "metadata": {},
   "outputs": [],
   "source": [
    "from habanero import Crossref\n",
    "cr = Crossref()"
   ]
  },
  {
   "cell_type": "code",
   "execution_count": 150,
   "metadata": {},
   "outputs": [
    {
     "data": {
      "text/plain": [
       "'Memory consolidation, retrograde amnesia and the hippocampal complex'"
      ]
     },
     "execution_count": 150,
     "metadata": {},
     "output_type": "execute_result"
    }
   ],
   "source": [
    "x = cr.works(query = 'title:\"Memory consolidation, retrograde amnesia and the hippocampal complex\"', select = [\"title\",\"author\"], cursor_max=1)\n",
    "authors = x['message']['items'][0]['author']\n",
    "names = {'FA':{'given':authors[0]['given'], 'family':authors[0]['given']}, 'LA':{'given':authors[-1]['given'], 'family':authors[-1]['given']}}\n",
    "x['message']['items'][0]['title'][0]"
   ]
  },
  {
   "cell_type": "code",
   "execution_count": 148,
   "metadata": {},
   "outputs": [],
   "source": [
    "def get_names(title):\n",
    "    works = cr.works(query = f'title:\"{title}\"', select = [\"title\",\"author\"], cursor_max=1)\n",
    "    if works['message']['items'][0]['title'][0].lower() == title.lower():\n",
    "        authors = works['message']['items'][0]['author']\n",
    "        \n",
    "        # check the all fields are available\n",
    "        if not 'given' in authors[0]:\n",
    "            FA = ''\n",
    "        else:\n",
    "            # trim initials\n",
    "            FA = authors[0]['given'].replace('.',' ').split()[0]\n",
    "        if not 'given' in authors[-1]:\n",
    "            LA = ''\n",
    "        else:\n",
    "            # trim initials\n",
    "            LA = authors[-1]['given'].replace('.',' ').split()[0]\n",
    "        \n",
    "        # throw out if full first name not available\n",
    "        if len(FA) == 1:\n",
    "            FA = ''\n",
    "        if len(LA) == 1:\n",
    "            LA = ''\n",
    "        names = {'FA':{'given':FA, 'family':authors[0]['family']}, \n",
    "                 'LA':{'given':LA, 'family':authors[-1]['family']}}\n",
    "    else:\n",
    "        names = {'FA':{'given':'', 'family':''}, \n",
    "                 'LA':{'given':'', 'family':''}}\n",
    "    return names\n",
    "\n",
    "    "
   ]
  },
  {
   "cell_type": "code",
   "execution_count": 144,
   "metadata": {},
   "outputs": [
    {
     "data": {
      "text/plain": [
       "{'status': 'ok',\n",
       " 'message-type': 'work-list',\n",
       " 'message-version': '1.0.0',\n",
       " 'message': {'facets': {},\n",
       "  'total-results': 192483,\n",
       "  'items': [{'title': ['Humanism on Gallifrey'],\n",
       "    'author': [{'family': 'Elizabeth Lundberg',\n",
       "      'sequence': 'first',\n",
       "      'affiliation': []}]},\n",
       "   {'title': ['Secularism, Humanism, and Secular Humanism'],\n",
       "    'author': [{'given': 'Joseph',\n",
       "      'family': 'Blankholm',\n",
       "      'sequence': 'additional',\n",
       "      'affiliation': []}]},\n",
       "   {'title': ['Humanism and the Human'],\n",
       "    'author': [{'given': 'Joseph',\n",
       "      'family': 'Winters',\n",
       "      'sequence': 'additional',\n",
       "      'affiliation': []}]},\n",
       "   {'title': ['The Politics of Humanism'],\n",
       "    'author': [{'given': 'Joseph O.',\n",
       "      'family': 'Baker',\n",
       "      'sequence': 'additional',\n",
       "      'affiliation': []}]},\n",
       "   {'title': ['Humanism as a Religious Orientation?'],\n",
       "    'author': [{'given': 'William',\n",
       "      'family': 'Hart',\n",
       "      'sequence': 'additional',\n",
       "      'affiliation': []}]},\n",
       "   {'title': ['Humanism and the Visual Arts'],\n",
       "    'author': [{'given': 'J. Sage',\n",
       "      'family': 'Elwell',\n",
       "      'sequence': 'additional',\n",
       "      'affiliation': []}]},\n",
       "   {'title': ['Humanism and Aging'],\n",
       "    'author': [{'given': 'Peter',\n",
       "      'family': 'Derkx',\n",
       "      'sequence': 'additional',\n",
       "      'affiliation': []},\n",
       "     {'given': 'Hanne',\n",
       "      'family': 'Laceulle',\n",
       "      'sequence': 'additional',\n",
       "      'affiliation': []}]},\n",
       "   {'title': ['Humanism and Humor'],\n",
       "    'author': [{'given': 'David',\n",
       "      'family': 'Feltmate',\n",
       "      'sequence': 'additional',\n",
       "      'affiliation': []}]},\n",
       "   {'title': ['Humanism and Music'],\n",
       "    'author': [{'given': 'Christopher',\n",
       "      'family': 'Driscoll',\n",
       "      'sequence': 'additional',\n",
       "      'affiliation': []}]},\n",
       "   {'title': ['Humanism and Race'],\n",
       "    'author': [{'given': 'Christopher',\n",
       "      'family': 'Cameron',\n",
       "      'sequence': 'additional',\n",
       "      'affiliation': []}]},\n",
       "   {'title': ['Unadvisable'],\n",
       "    'author': [{'given': 'Márcia',\n",
       "      'family': 'Rego',\n",
       "      'sequence': 'first',\n",
       "      'affiliation': [{'name': 'Thompson Writing Program; Duke University; Box 90025 Durham NC 27708'}]}]},\n",
       "   {'title': ['Humanism'],\n",
       "    'author': [{'given': 'Christopher',\n",
       "      'family': 'Castiglia',\n",
       "      'sequence': 'first',\n",
       "      'affiliation': []}]},\n",
       "   {'title': ['Anti-humanism'],\n",
       "    'author': [{'given': 'Robin',\n",
       "      'family': 'Headlam Wells',\n",
       "      'sequence': 'first',\n",
       "      'affiliation': []}]},\n",
       "   {'title': ['Anti-Humanism']},\n",
       "   {'title': ['II. Continental Humanism']},\n",
       "   {'title': ['III. English Humanism']},\n",
       "   {'title': ['Humanism and Philology 153']},\n",
       "   {'title': ['Humanism and Post-Humanism']},\n",
       "   {'title': ['Renaissance Humanism. Foundations, Forms, and Legacy. Vol. 1: Humanism in Italy. Vol. 2: Humanism Beyond Italy. Vol. 3: Humanism and the DisciplinesRenaissance Humanism. Foundations, Forms, and Legacy. Vol. 1: Humanism in Italy. Vol. 2: Humanism Beyond Italy. Vol. 3: Humanism and the Disciplines. Philadelphia, University of Pennsylvania Press, 1988. xv, 492; xv, 414; xvii, 692. illus. $129.95 U.S.'],\n",
       "    'author': [{'given': 'Paul F.',\n",
       "      'family': 'Grendler',\n",
       "      'sequence': 'first',\n",
       "      'affiliation': []}]},\n",
       "   {'title': ['French Perspectives on Humanism and Anthropology: Anthropologie et Humanism'],\n",
       "    'author': [{'given': 'Waltraud',\n",
       "      'family': 'Grohs-Paul',\n",
       "      'sequence': 'first',\n",
       "      'affiliation': []}]}],\n",
       "  'items-per-page': 20,\n",
       "  'query': {'start-index': 0,\n",
       "   'search-terms': 'title:\"Humanism on Gallifrey\"'}}}"
      ]
     },
     "execution_count": 144,
     "metadata": {},
     "output_type": "execute_result"
    }
   ],
   "source": [
    "def __init__"
   ]
  },
  {
   "cell_type": "code",
   "execution_count": null,
   "metadata": {},
   "outputs": [],
   "source": []
  }
 ],
 "metadata": {
  "kernelspec": {
   "display_name": "Python 3",
   "language": "python",
   "name": "python3"
  },
  "language_info": {
   "codemirror_mode": {
    "name": "ipython",
    "version": 3
   },
   "file_extension": ".py",
   "mimetype": "text/x-python",
   "name": "python",
   "nbconvert_exporter": "python",
   "pygments_lexer": "ipython3",
   "version": "3.7.1"
  }
 },
 "nbformat": 4,
 "nbformat_minor": 2
}
