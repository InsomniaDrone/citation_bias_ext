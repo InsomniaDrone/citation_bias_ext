{
 "cells": [
  {
   "cell_type": "code",
   "execution_count": 78,
   "metadata": {},
   "outputs": [],
   "source": [
    "from habanero import Crossref\n",
    "cr = Crossref()"
   ]
  },
  {
   "cell_type": "code",
   "execution_count": 148,
   "metadata": {},
   "outputs": [],
   "source": [
    "@app.rout('/get_names')\n",
    "def get_names(title):\n",
    "    works = cr.works(query = f'title:\"{title}\"', select = [\"title\",\"author\"], cursor_max=1)\n",
    "    if works['message']['items'][0]['title'][0].lower() == title.lower():\n",
    "        authors = works['message']['items'][0]['author']\n",
    "        \n",
    "        # check the all fields are available\n",
    "        if not 'given' in authors[0]:\n",
    "            FA = ''\n",
    "        else:\n",
    "            # trim initials\n",
    "            FA = authors[0]['given'].replace('.',' ').split()[0]\n",
    "        if not 'given' in authors[-1]:\n",
    "            LA = ''\n",
    "        else:\n",
    "            # trim initials\n",
    "            LA = authors[-1]['given'].replace('.',' ').split()[0]\n",
    "        \n",
    "        # throw out if full first name not available\n",
    "        if len(FA) == 1:\n",
    "            FA = ''\n",
    "        if len(LA) == 1:\n",
    "            LA = ''\n",
    "        names = {'FA':{'given':FA, 'family':authors[0]['family']}, \n",
    "                 'LA':{'given':LA, 'family':authors[-1]['family']}}\n",
    "    else:\n",
    "        names = {'FA':{'given':'', 'family':''}, \n",
    "                 'LA':{'given':'', 'family':''}}\n",
    "    return names\n",
    "\n",
    "    "
   ]
  },
  {
   "cell_type": "code",
   "execution_count": null,
   "metadata": {},
   "outputs": [],
   "source": [
    "@app.route('/json')\n",
    "def json():\n",
    "    return render_template('json.html')"
   ]
  }
 ],
 "metadata": {
  "kernelspec": {
   "display_name": "Python 3",
   "language": "python",
   "name": "python3"
  },
  "language_info": {
   "codemirror_mode": {
    "name": "ipython",
    "version": 3
   },
   "file_extension": ".py",
   "mimetype": "text/x-python",
   "name": "python",
   "nbconvert_exporter": "python",
   "pygments_lexer": "ipython3",
   "version": "3.7.1"
  }
 },
 "nbformat": 4,
 "nbformat_minor": 2
}
